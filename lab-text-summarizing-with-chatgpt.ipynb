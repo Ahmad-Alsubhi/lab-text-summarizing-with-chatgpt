{
 "cells": [
  {
   "cell_type": "markdown",
   "metadata": {},
   "source": [
    "# Text summarizing with ChaptGPT\n",
    "In this lesson, you will summarize text with a focus on specific topics.\n",
    "\n",
    "## Setup"
   ]
  },
  {
   "cell_type": "code",
   "execution_count": 1,
   "metadata": {
    "tags": []
   },
   "outputs": [],
   "source": [
    "from openai import OpenAI\n",
    "import os\n",
    "\n",
    "from dotenv import load_dotenv, find_dotenv\n",
    "_ = load_dotenv(find_dotenv()) # read local .env file\n",
    "\n",
    "OPENAI_API_KEY  = os.getenv('OPENAI_API_KEY')"
   ]
  },
  {
   "cell_type": "code",
   "execution_count": 2,
   "metadata": {
    "tags": []
   },
   "outputs": [],
   "source": [
    "client = OpenAI(\n",
    "    # This is the default and can be omitted\n",
    "    api_key=OPENAI_API_KEY,\n",
    ")\n",
    "\n",
    "\n",
    "def get_completion(prompt, model=\"gpt-3.5-turbo\"): # Andrew mentioned that the prompt/ completion paradigm is preferable for this class\n",
    "    messages = [{\"role\": \"user\", \"content\": prompt}]\n",
    "    response = client.chat.completions.create(\n",
    "        model=model,\n",
    "        messages=messages,\n",
    "        temperature=0, # this is the degree of randomness of the model's output\n",
    "    )\n",
    "    return response.choices[0].message.content\n"
   ]
  },
  {
   "cell_type": "markdown",
   "metadata": {},
   "source": [
    "## Text to summarize"
   ]
  },
  {
   "cell_type": "code",
   "execution_count": 5,
   "metadata": {
    "tags": []
   },
   "outputs": [],
   "source": [
    "prod_review = \"\"\"\n",
    "Got this panda plush toy for my daughter's birthday, \\\n",
    "who loves it and takes it everywhere. It's soft and \\\n",
    "super cute, and its face has a friendly look. It's \\\n",
    "a bit small for what I paid though. I think there \\\n",
    "might be other options that are bigger for the \\\n",
    "same price. It arrived a day earlier than expected, \\\n",
    "so I got to play with it myself before I gave it \\\n",
    "to her.\n",
    "\"\"\""
   ]
  },
  {
   "cell_type": "markdown",
   "metadata": {},
   "source": [
    "## Summarize with a word/sentence/character limit"
   ]
  },
  {
   "cell_type": "code",
   "execution_count": 4,
   "metadata": {
    "tags": []
   },
   "outputs": [
    {
     "name": "stdout",
     "output_type": "stream",
     "text": [
      "Soft, cute panda plush toy loved by daughter, arrived early. Small for price, but overall a hit.\n"
     ]
    }
   ],
   "source": [
    "prompt = f\"\"\"\n",
    "Your task is to generate a short summary of a product \\\n",
    "review from an ecommerce site. \n",
    "\n",
    "Summarize the review below, delimited by triple \n",
    "backticks, in at most 30 words. \n",
    "\n",
    "Review: ```{prod_review}```\n",
    "\"\"\"\n",
    "\n",
    "response = get_completion(prompt)\n",
    "print(response)\n"
   ]
  },
  {
   "cell_type": "markdown",
   "metadata": {},
   "source": [
    "## Summarize with a focus on shipping and delivery"
   ]
  },
  {
   "cell_type": "code",
   "execution_count": 5,
   "metadata": {
    "tags": []
   },
   "outputs": [
    {
     "name": "stdout",
     "output_type": "stream",
     "text": [
      "The customer was pleased with the early delivery of the panda plush toy, but felt it was slightly small for the price paid.\n"
     ]
    }
   ],
   "source": [
    "prompt = f\"\"\"\n",
    "Your task is to generate a short summary of a product \\\n",
    "review from an ecommerce site to give feedback to the \\\n",
    "Shipping deparmtment. \n",
    "\n",
    "Summarize the review below, delimited by triple \n",
    "backticks, in at most 30 words, and focusing on any aspects \\\n",
    "that mention shipping and delivery of the product. \n",
    "\n",
    "Review: ```{prod_review}```\n",
    "\"\"\"\n",
    "\n",
    "response = get_completion(prompt)\n",
    "print(response)\n"
   ]
  },
  {
   "cell_type": "markdown",
   "metadata": {},
   "source": [
    "## Summarize with a focus on price and value"
   ]
  },
  {
   "cell_type": "code",
   "execution_count": 6,
   "metadata": {
    "tags": []
   },
   "outputs": [
    {
     "name": "stdout",
     "output_type": "stream",
     "text": [
      "The panda plush toy is loved for its softness and cuteness, but some customers feel it's a bit small for the price.\n"
     ]
    }
   ],
   "source": [
    "prompt = f\"\"\"\n",
    "Your task is to generate a short summary of a product \\\n",
    "review from an ecommerce site to give feedback to the \\\n",
    "pricing deparmtment, responsible for determining the \\\n",
    "price of the product.  \n",
    "\n",
    "Summarize the review below, delimited by triple \n",
    "backticks, in at most 30 words, and focusing on any aspects \\\n",
    "that are relevant to the price and perceived value. \n",
    "\n",
    "Review: ```{prod_review}```\n",
    "\"\"\"\n",
    "\n",
    "response = get_completion(prompt)\n",
    "print(response)\n"
   ]
  },
  {
   "cell_type": "markdown",
   "metadata": {},
   "source": [
    "#### Comment\n",
    "- Summaries include topics that are not related to the topic of focus."
   ]
  },
  {
   "cell_type": "markdown",
   "metadata": {},
   "source": [
    "## Try \"extract\" instead of \"summarize\""
   ]
  },
  {
   "cell_type": "code",
   "execution_count": 7,
   "metadata": {
    "tags": []
   },
   "outputs": [
    {
     "name": "stdout",
     "output_type": "stream",
     "text": [
      "Feedback: The product arrived a day earlier than expected, which was a pleasant surprise. Customers may prefer larger options for the same price.\n"
     ]
    }
   ],
   "source": [
    "prompt = f\"\"\"\n",
    "Your task is to extract relevant information from \\ \n",
    "a product review from an ecommerce site to give \\\n",
    "feedback to the Shipping department. \n",
    "\n",
    "From the review below, delimited by triple quotes \\\n",
    "extract the information relevant to shipping and \\ \n",
    "delivery. Limit to 30 words. \n",
    "\n",
    "Review: ```{prod_review}```\n",
    "\"\"\"\n",
    "\n",
    "response = get_completion(prompt)\n",
    "print(response)"
   ]
  },
  {
   "cell_type": "markdown",
   "metadata": {},
   "source": [
    "## Summarize multiple product reviews"
   ]
  },
  {
   "cell_type": "code",
   "execution_count": null,
   "metadata": {
    "tags": []
   },
   "outputs": [],
   "source": [
    "\n",
    "review_1 = prod_review \n",
    "\n",
    "# review for a standing lamp\n",
    "review_2 = \"\"\"\n",
    "Needed a nice lamp for my bedroom, and this one \\\n",
    "had additional storage and not too high of a price \\\n",
    "point. Got it fast - arrived in 2 days. The string \\\n",
    "to the lamp broke during the transit and the company \\\n",
    "happily sent over a new one. Came within a few days \\\n",
    "as well. It was easy to put together. Then I had a \\\n",
    "missing part, so I contacted their support and they \\\n",
    "very quickly got me the missing piece! Seems to me \\\n",
    "to be a great company that cares about their customers \\\n",
    "and products. \n",
    "\"\"\"\n",
    "\n",
    "# review for an electric toothbrush\n",
    "review_3 = \"\"\"\n",
    "My dental hygienist recommended an electric toothbrush, \\\n",
    "which is why I got this. The battery life seems to be \\\n",
    "pretty impressive so far. After initial charging and \\\n",
    "leaving the charger plugged in for the first week to \\\n",
    "condition the battery, I've unplugged the charger and \\\n",
    "been using it for twice daily brushing for the last \\\n",
    "3 weeks all on the same charge. But the toothbrush head \\\n",
    "is too small. I’ve seen baby toothbrushes bigger than \\\n",
    "this one. I wish the head was bigger with different \\\n",
    "length bristles to get between teeth better because \\\n",
    "this one doesn’t.  Overall if you can get this one \\\n",
    "around the $50 mark, it's a good deal. The manufactuer's \\\n",
    "replacements heads are pretty expensive, but you can \\\n",
    "get generic ones that're more reasonably priced. This \\\n",
    "toothbrush makes me feel like I've been to the dentist \\\n",
    "every day. My teeth feel sparkly clean! \n",
    "\"\"\"\n",
    "\n",
    "# review for a blender\n",
    "review_4 = \"\"\"\n",
    "So, they still had the 17 piece system on seasonal \\\n",
    "sale for around $49 in the month of November, about \\\n",
    "half off, but for some reason (call it price gouging) \\\n",
    "around the second week of December the prices all went \\\n",
    "up to about anywhere from between $70-$89 for the same \\\n",
    "system. And the 11 piece system went up around $10 or \\\n",
    "so in price also from the earlier sale price of $29. \\\n",
    "So it looks okay, but if you look at the base, the part \\\n",
    "where the blade locks into place doesn’t look as good \\\n",
    "as in previous editions from a few years ago, but I \\\n",
    "plan to be very gentle with it (example, I crush \\\n",
    "very hard items like beans, ice, rice, etc. in the \\ \n",
    "blender first then pulverize them in the serving size \\\n",
    "I want in the blender then switch to the whipping \\\n",
    "blade for a finer flour, and use the cross cutting blade \\\n",
    "first when making smoothies, then use the flat blade \\\n",
    "if I need them finer/less pulpy). Special tip when making \\\n",
    "smoothies, finely cut and freeze the fruits and \\\n",
    "vegetables (if using spinach-lightly stew soften the \\ \n",
    "spinach then freeze until ready for use-and if making \\\n",
    "sorbet, use a small to medium sized food processor) \\ \n",
    "that you plan to use that way you can avoid adding so \\\n",
    "much ice if at all-when making your smoothie. \\\n",
    "After about a year, the motor was making a funny noise. \\\n",
    "I called customer service but the warranty expired \\\n",
    "already, so I had to buy another one. FYI: The overall \\\n",
    "quality has gone done in these types of products, so \\\n",
    "they are kind of counting on brand recognition and \\\n",
    "consumer loyalty to maintain sales. Got it in about \\\n",
    "two days.\n",
    "\"\"\"\n",
    "\n",
    "\n",
    "\n",
    "\n",
    "reviews = [review_1, review_2, review_3, review_4]"
   ]
  },
  {
   "cell_type": "code",
   "execution_count": 9,
   "metadata": {
    "tags": []
   },
   "outputs": [
    {
     "name": "stdout",
     "output_type": "stream",
     "text": [
      "0 Summary: \n",
      "Adorable panda plush loved by daughter, but small for price. Arrived early, soft and cute. \n",
      "\n",
      "1 ```\n",
      "Affordable lamp with storage, fast delivery, excellent customer service for missing parts. Great company overall.\n",
      "``` \n",
      "\n",
      "2 Impressive battery life, small brush head, good deal for $50, generic replacement heads available, leaves teeth feeling clean. \n",
      "\n",
      "3 17-piece system on sale, price increased later. Base quality not as good. Motor issue after a year. Brand relies on loyalty. \n",
      "\n"
     ]
    }
   ],
   "source": [
    "for i in range(len(reviews)):\n",
    "    prompt = f\"\"\"\n",
    "    Your task is to generate a short summary of a product \\ \n",
    "    review from an ecommerce site. \n",
    "\n",
    "    Summarize the review below, delimited by triple \\\n",
    "    backticks in at most 20 words. \n",
    "\n",
    "    Review: ```{reviews[i]}```\n",
    "    \"\"\"\n",
    "\n",
    "    response = get_completion(prompt)\n",
    "    print(i, response, \"\\n\")"
   ]
  },
  {
   "cell_type": "code",
   "execution_count": 19,
   "metadata": {},
   "outputs": [
    {
     "data": {
      "text/plain": [
       "\"\\nGot this panda plush toy for my daughter's birthday, who loves it and takes it everywhere. It's soft and \\\\ \\nsuper cute, and its face has a friendly look. It's \\\\ \\na bit small for what I paid though. I think there \\\\ \\nmight be other options that are bigger for the \\\\ \\nsame price. It arrived a day earlier than expected, \\\\ \\nso I got to play with it myself before I gave it \\\\ \\nto her.\\n\""
      ]
     },
     "execution_count": 19,
     "metadata": {},
     "output_type": "execute_result"
    }
   ],
   "source": [
    "review_1"
   ]
  },
  {
   "cell_type": "code",
   "execution_count": null,
   "metadata": {},
   "outputs": [],
   "source": []
  },
  {
   "cell_type": "markdown",
   "metadata": {},
   "source": [
    "# Exercise\n",
    " - Complete the prompts similar to what we did in class. \n",
    "     - Try at least 3 versions\n",
    "     - Be creative\n",
    " - Write a one page report summarizing your findings.\n",
    "     - Were there variations that didn't work well? i.e., where GPT either hallucinated or wrong\n",
    " - What did you learn?"
   ]
  },
  {
   "cell_type": "code",
   "execution_count": 26,
   "metadata": {},
   "outputs": [],
   "source": [
    "prompt_1 = \"\"\"\\\n",
    "Hi I'm Ahmad Alsubhi I'm graduated from jeddah university \\\n",
    "then I joined the Tuwaiq Academy BootCamp Data Science and Machine Learning \\\n",
    "which lasted two month onsite and after then I joined the SDA Saudi Digital Academy \\\n",
    "Bootcamp artificial Intelligence engineering I'm right now her with this bootcamp \\\n",
    "\"\"\"\n",
    "\n",
    "prompt_2 = \"\"\" \n",
    "BMW (Bayerische Motoren Werke AG), also known as the BMW Group, is a German multinational \\\n",
    "manufacturer of vehicles and motorcycles headquartered in Munich, Bavaria, Germany. The company \\\n",
    "was founded in 1916 as a manufacturer of aircraft engines, which it produced from 1917 to 1918 and \\\n",
    "again from 1933 to 1945, creating engines used during the Second World War.\n",
    "BMW markets its automobiles under the BMW, Mini, and Rolls-Royce brands, while its motorcycles \n",
    "are marketed under the BMW Motorrad brand.\\\n",
    "In 2023, BMW was the ninth-largest vehicle producer in the world and the sixth largest by revenue.\\\n",
    "It produced over 2.5 million vehicles that year. The company was also ranked among the \\\n",
    "top companies in the Forbes Global 2000 list.\\\n",
    "BMW has a strong motorsport heritage, particularly in touring cars, sports cars, \\\n",
    "and the Isle of Man TT. The company manufactures vehicles in Germany, the United Kingdom, \\\n",
    "the United States, Brazil, Mexico, South Africa, India, China, and previously in the Netherlands.\\\n",
    "The Quandt family has been a long-term shareholder of BMW, playing a major role in saving the company from bankruptcy in 1959. The rest of the shares are owned by the public.\n",
    "\"\"\"\n",
    "\n",
    "prompt_3 = \"\"\"\n",
    "A prompt is natural language text that describes the task an AI should perform. For a text-to-text \\\n",
    "language model, a prompt can be a question, a command, or a longer statement that includes context, \\\n",
    "instructions, and conversation history.\\\n",
    "Prompt engineering may involve rephrasing a query, specifying a tone or style, choosing certain words and grammar, \\\n",
    "providing relevant context, or describing a character for the AI to imitate.\\\n",
    "When interacting with a text-to-image or text-to-audio model, a typical prompt is a description of \\\n",
    "the desired output — such as “a high-quality photo of an astronaut riding a horse” or “Lo-fi slow BPM \\\n",
    "electro chill with organic samples.” Prompting a text-to-image model may include adjusting, emphasizing,\\\n",
    "or reordering words to guide the subject, style, layout, lighting, and overall aesthetic.\n",
    "\"\"\"\n",
    "\n",
    "\n",
    "prompt_all=[prompt_1,prompt_2,prompt_3]"
   ]
  },
  {
   "cell_type": "code",
   "execution_count": 28,
   "metadata": {},
   "outputs": [
    {
     "name": "stdout",
     "output_type": "stream",
     "text": [
      "0 Summary: \n",
      "Ahmad Alsubhi graduated from Jeddah University, completed two bootcamps in Data Science, Machine Learning, and Artificial Intelligence at Tuwaiq Academy and SDA Saudi Digital Academy. \n",
      "\n",
      "1 BMW Group, a German multinational, manufactures vehicles, motorcycles, and has a strong motorsport heritage. \n",
      "\n",
      "2 Summary: Prompting guides AI tasks with natural language for text-to-text, text-to-image, or text-to-audio models. \n",
      "\n"
     ]
    }
   ],
   "source": [
    "for i in  range(len(prompt_all)):\n",
    "    prompt = f\"\"\"\n",
    "    Your task is to generate a short summary \\\n",
    "\n",
    "        Summarize the review below, delimited by triple \\\n",
    "        backticks in at most 15 words. \n",
    "\n",
    "        Review: ```{prompt_all[i]}```\n",
    "    \"\"\"\n",
    "\n",
    "    response = get_completion(prompt)\n",
    "    print(i, response, \"\\n\")"
   ]
  },
  {
   "cell_type": "markdown",
   "metadata": {},
   "source": [
    "# 📝 Prompt Engineering Exercise – Summary Report\n",
    "\n",
    "## ✅ Overview\n",
    "In this exercise, I worked with three different prompts, each representing a different use case. I rewrote each prompt in multiple creative ways and analyzed how the AI responded.\n",
    "\n",
    "---\n",
    "\n",
    "## 🔹 Prompt 1 – Personal Introduction\n",
    "\n",
    "**Description:**  \n",
    "A short introduction about myself including education and bootcamps.\n",
    "\n",
    "**Observations:**\n",
    "- Correct grammar improved AI understanding (e.g., \"I graduated\" is better than \"I'm graduated\").\n",
    "- Rewriting it in bullet-point format helped the model structure the answer better.\n",
    "- Adding clarity and separating ideas improved accuracy and readability.\n",
    "\n",
    "---\n",
    "\n",
    "## 🔹 Prompt 2 – BMW Company Overview\n",
    "\n",
    "**Description:**  \n",
    "Informative text about BMW’s history, brands, production, and global presence.\n",
    "\n",
    "**Observations:**\n",
    "- Accurate outputs when the input remained factual and structured.\n",
    "- Simplified or vague rewrites sometimes led to hallucinated facts.\n",
    "- Keeping a professional tone and chronological flow worked best.\n",
    "\n",
    "---\n",
    "\n",
    "## 🔹 Prompt 3 – What is a Prompt?\n",
    "\n",
    "**Description:**  \n",
    "Explains what a prompt is and how it works for text-to-text and text-to-image models.\n",
    "\n",
    "**Observations:**\n",
    "- Examples (like “astronaut riding a horse”) helped the model stay focused.\n",
    "- Rephrasing in simple language made the explanation easier to understand.\n",
    "- Well-organized prompts produced structured and detailed outputs.\n",
    "\n",
    "---\n",
    "\n",
    "## ⚠️ Issues & Limitations\n",
    "\n",
    "- Vague prompts led to hallucinations or incorrect facts.\n",
    "- Poor grammar reduced clarity and impacted model performance.\n",
    "- Overly long sentences confused the model and reduced output quality.\n",
    "\n",
    "---\n",
    "\n",
    "## 📘 Lessons Learned\n",
    "\n",
    "- **Clarity = Better Output**: Clean grammar and structure lead to more accurate results.\n",
    "- **Context Helps**: Adding purpose or instruction improves alignment.\n",
    "- **Style Can Be Controlled**: Tone and detail can be guided through word choice.\n",
    "- **Rewriting Matters**: Tiny changes in phrasing significantly affect responses.\n",
    "\n",
    "---\n",
    "\n",
    "> ✅ *This exercise improved my understanding of how to craft prompts effectively and avoid common mistakes.*\n",
    "\n"
   ]
  }
 ],
 "metadata": {
  "kernelspec": {
   "display_name": "ironhack",
   "language": "python",
   "name": "python3"
  },
  "language_info": {
   "codemirror_mode": {
    "name": "ipython",
    "version": 3
   },
   "file_extension": ".py",
   "mimetype": "text/x-python",
   "name": "python",
   "nbconvert_exporter": "python",
   "pygments_lexer": "ipython3",
   "version": "3.10.7"
  }
 },
 "nbformat": 4,
 "nbformat_minor": 4
}
